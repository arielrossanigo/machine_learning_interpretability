{
 "cells": [
  {
   "cell_type": "markdown",
   "metadata": {
    "slideshow": {
     "slide_type": "slide"
    }
   },
   "source": [
    "# Machine Learning Interpretability\n",
    "\n",
    "\n",
    "\n",
    "\n",
    "**Ariel Rossanigo**\n",
    "\n",
    "git clone git@github.com:arielrossanigo/machine_learning_interpretability.com\n",
    "\n",
    "Presentation: https://docs.google.com/presentation/d/18ygxbkkOcny9G7RrrG4tAVPSPEKXo897r2_Am0WdIWQ"
   ]
  },
  {
   "cell_type": "markdown",
   "metadata": {
    "slideshow": {
     "slide_type": "slide"
    }
   },
   "source": [
    "### Quien soy?\n",
    "\n",
    "* Ingeniero en computación\n",
    "* Profe de Inteligencia Artificial y Machine Learning\n",
    "* Desarrollador, Data Scientist\n",
    "* Co-Founder de Bloom AI"
   ]
  },
  {
   "cell_type": "markdown",
   "metadata": {
    "slideshow": {
     "slide_type": "slide"
    }
   },
   "source": [
    "### Explainable / Interpretable AI\n",
    "\n",
    "https://christophm.github.io/interpretable-ml-book/\n",
    "\n",
    "\n",
    "\n",
    "#### *Interpretability is the degree to which a human can understand the cause of a decision.*\n",
    "\n",
    "#### *Interpretability is the degree to which a human can consistently predict the model's result* \n",
    "\n"
   ]
  },
  {
   "cell_type": "markdown",
   "metadata": {},
   "source": [
    "### Imports iniciales y lectura del dataset"
   ]
  },
  {
   "cell_type": "code",
   "execution_count": null,
   "metadata": {
    "ExecuteTime": {
     "end_time": "2021-10-05T20:49:07.104385Z",
     "start_time": "2021-10-05T20:49:06.284410Z"
    },
    "slideshow": {
     "slide_type": "skip"
    }
   },
   "outputs": [],
   "source": [
    "%matplotlib inline\n",
    "import warnings\n",
    "warnings.filterwarnings('ignore')\n",
    "\n",
    "import os \n",
    "import urllib.request\n",
    "\n",
    "import pandas as pd\n",
    "import numpy as np\n",
    "from zipfile import ZipFile\n",
    "\n",
    "from sklearn.preprocessing import OneHotEncoder, StandardScaler\n",
    "from sklearn.model_selection import train_test_split\n",
    "\n",
    "import matplotlib.pyplot as plt\n",
    "import seaborn as sns\n",
    "\n",
    "plt.rcParams['axes.facecolor'] = 'white'\n",
    "plt.rcParams['figure.facecolor'] = 'white'"
   ]
  },
  {
   "cell_type": "code",
   "execution_count": null,
   "metadata": {
    "ExecuteTime": {
     "end_time": "2021-10-05T20:49:07.107848Z",
     "start_time": "2021-10-05T20:49:07.105578Z"
    }
   },
   "outputs": [],
   "source": [
    "if not os.path.exists('Bike-Sharing-Dataset.zip'):\n",
    "    print(\"Downloading dataset...\")\n",
    "    urllib.request.urlretrieve(\"http://archive.ics.uci.edu/ml/machine-learning-databases/00275/Bike-Sharing-Dataset.zip\",\n",
    "                               \"Bike-Sharing-Dataset.zip\")\n",
    "    print(\"Dataset downloaded\")"
   ]
  },
  {
   "cell_type": "code",
   "execution_count": null,
   "metadata": {
    "ExecuteTime": {
     "end_time": "2021-10-05T20:49:07.147845Z",
     "start_time": "2021-10-05T20:49:07.108899Z"
    }
   },
   "outputs": [],
   "source": [
    "with ZipFile('Bike-Sharing-Dataset.zip') as myzip:\n",
    "    by_hour = pd.read_csv(myzip.open('hour.csv'))"
   ]
  },
  {
   "cell_type": "code",
   "execution_count": null,
   "metadata": {
    "ExecuteTime": {
     "end_time": "2021-10-05T20:49:07.158345Z",
     "start_time": "2021-10-05T20:49:07.149467Z"
    }
   },
   "outputs": [],
   "source": [
    "train, test = train_test_split(by_hour, test_size=0.3, random_state=42)\n",
    "train = train.reset_index(drop=True).copy()\n",
    "test = test.reset_index(drop=True).copy()\n",
    "\n",
    "features_names = ['yr', 'hr', 'holiday', 'weekday', \n",
    "                  'workingday', 'temp', 'hum', 'windspeed']"
   ]
  },
  {
   "cell_type": "code",
   "execution_count": null,
   "metadata": {
    "ExecuteTime": {
     "end_time": "2021-10-05T20:49:07.165860Z",
     "start_time": "2021-10-05T20:49:07.159581Z"
    }
   },
   "outputs": [],
   "source": [
    "X_train = train[features_names].values\n",
    "y_train = train.cnt.values\n",
    "\n",
    "X_test = test[features_names].values\n",
    "y_test = test.cnt.values"
   ]
  },
  {
   "cell_type": "markdown",
   "metadata": {
    "slideshow": {
     "slide_type": "slide"
    }
   },
   "source": [
    "### Modelos interpretables en su naturaleza"
   ]
  },
  {
   "cell_type": "markdown",
   "metadata": {},
   "source": [
    "#### Regresión lineal"
   ]
  },
  {
   "cell_type": "code",
   "execution_count": null,
   "metadata": {
    "ExecuteTime": {
     "end_time": "2021-10-05T20:49:07.186669Z",
     "start_time": "2021-10-05T20:49:07.167069Z"
    }
   },
   "outputs": [],
   "source": [
    "from sklearn.linear_model import LinearRegression"
   ]
  },
  {
   "cell_type": "code",
   "execution_count": null,
   "metadata": {
    "ExecuteTime": {
     "end_time": "2021-10-05T20:49:07.194068Z",
     "start_time": "2021-10-05T20:49:07.188020Z"
    }
   },
   "outputs": [],
   "source": [
    "lr = LinearRegression().fit(X_train, y_train)\n",
    "effects = lr.coef_ * X_train"
   ]
  },
  {
   "cell_type": "code",
   "execution_count": null,
   "metadata": {
    "ExecuteTime": {
     "end_time": "2021-10-05T20:49:07.338614Z",
     "start_time": "2021-10-05T20:49:07.195517Z"
    }
   },
   "outputs": [],
   "source": [
    "ax = sns.barplot(y=features_names, x=lr.coef_, orient='h')\n",
    "ax.set_title('Pesos de la regresión');"
   ]
  },
  {
   "cell_type": "code",
   "execution_count": null,
   "metadata": {
    "ExecuteTime": {
     "end_time": "2021-10-05T20:49:07.595421Z",
     "start_time": "2021-10-05T20:49:07.339927Z"
    }
   },
   "outputs": [],
   "source": [
    "eff = pd.DataFrame(effects, columns=features_names)\n",
    "eff = eff.unstack().to_frame().reset_index()\n",
    "eff.columns = ['Feature', '_', 'Value']\n",
    "\n",
    "ax = sns.boxplot(data=eff, x='Value', y='Feature')\n",
    "ax.set_title('Effect plot');"
   ]
  },
  {
   "cell_type": "markdown",
   "metadata": {},
   "source": [
    "#### Arboles de decisión"
   ]
  },
  {
   "cell_type": "code",
   "execution_count": null,
   "metadata": {
    "ExecuteTime": {
     "end_time": "2021-10-05T20:49:07.618598Z",
     "start_time": "2021-10-05T20:49:07.598262Z"
    }
   },
   "outputs": [],
   "source": [
    "from sklearn.tree import DecisionTreeRegressor\n",
    "from dtreeviz.trees import *"
   ]
  },
  {
   "cell_type": "code",
   "execution_count": null,
   "metadata": {
    "ExecuteTime": {
     "end_time": "2021-10-05T20:49:07.630551Z",
     "start_time": "2021-10-05T20:49:07.619926Z"
    }
   },
   "outputs": [],
   "source": [
    "the_tree = DecisionTreeRegressor(max_depth=3)\n",
    "the_tree.fit(X_train, y_train);"
   ]
  },
  {
   "cell_type": "code",
   "execution_count": null,
   "metadata": {
    "ExecuteTime": {
     "end_time": "2021-10-05T20:49:07.636026Z",
     "start_time": "2021-10-05T20:49:07.632022Z"
    }
   },
   "outputs": [],
   "source": [
    "X_sample, _, y_sample, _ = train_test_split(X_test, y_test, train_size=1000, random_state=42)"
   ]
  },
  {
   "cell_type": "code",
   "execution_count": null,
   "metadata": {
    "ExecuteTime": {
     "end_time": "2021-10-05T20:49:08.334729Z",
     "start_time": "2021-10-05T20:49:07.637196Z"
    }
   },
   "outputs": [],
   "source": [
    "case = X_sample[0]\n",
    "\n",
    "viz = dtreeviz(the_tree, X_sample, y_sample, target_name='# rental bikes', \n",
    "               feature_names=features_names, \n",
    "               orientation ='TD', fancy=False)\n",
    "viz.view()"
   ]
  },
  {
   "cell_type": "code",
   "execution_count": null,
   "metadata": {
    "ExecuteTime": {
     "end_time": "2021-10-05T20:49:10.120834Z",
     "start_time": "2021-10-05T20:49:08.336441Z"
    }
   },
   "outputs": [],
   "source": [
    "case = X_sample[0]\n",
    "\n",
    "viz = dtreeviz(the_tree, X_sample, y_sample, target_name='# rental bikes', \n",
    "               feature_names=features_names, \n",
    "               orientation ='TD', X=case)\n",
    "viz.view()"
   ]
  },
  {
   "cell_type": "code",
   "execution_count": null,
   "metadata": {
    "ExecuteTime": {
     "end_time": "2021-10-05T20:49:10.808011Z",
     "start_time": "2021-10-05T20:49:10.122752Z"
    }
   },
   "outputs": [],
   "source": [
    "viz = dtreeviz(the_tree, X_sample, y_sample, target_name='# rental bikes', \n",
    "               feature_names=features_names, \n",
    "               orientation ='TD', X=case, show_just_path=True)\n",
    "viz.view()"
   ]
  },
  {
   "cell_type": "code",
   "execution_count": null,
   "metadata": {
    "ExecuteTime": {
     "end_time": "2021-10-05T20:49:10.816257Z",
     "start_time": "2021-10-05T20:49:10.810525Z"
    }
   },
   "outputs": [],
   "source": [
    "print(explain_prediction_path(the_tree, case, feature_names=features_names, explanation_type=\"plain_english\"))"
   ]
  },
  {
   "cell_type": "code",
   "execution_count": null,
   "metadata": {
    "ExecuteTime": {
     "end_time": "2021-10-05T20:49:11.044055Z",
     "start_time": "2021-10-05T20:49:10.818844Z"
    }
   },
   "outputs": [],
   "source": [
    "explain_prediction_path(the_tree, case, \n",
    "                        feature_names=features_names, \n",
    "                        explanation_type=\"sklearn_default\");"
   ]
  },
  {
   "cell_type": "code",
   "execution_count": null,
   "metadata": {
    "ExecuteTime": {
     "end_time": "2021-10-05T20:49:11.363505Z",
     "start_time": "2021-10-05T20:49:11.045783Z"
    }
   },
   "outputs": [],
   "source": [
    "viz_leaf_target(the_tree, X_sample, y_sample, target_name='# rental bikes', feature_names=features_names, \n",
    "                figsize=(15, 8))"
   ]
  },
  {
   "cell_type": "markdown",
   "metadata": {
    "slideshow": {
     "slide_type": "slide"
    }
   },
   "source": [
    "### Global Model Agnostic Methods\n",
    "\n",
    "#### Partial dependence plots\n"
   ]
  },
  {
   "cell_type": "code",
   "execution_count": null,
   "metadata": {
    "ExecuteTime": {
     "end_time": "2021-10-05T20:49:11.386777Z",
     "start_time": "2021-10-05T20:49:11.364790Z"
    }
   },
   "outputs": [],
   "source": [
    "from sklearn.inspection import plot_partial_dependence\n",
    "from xgboost import XGBRegressor"
   ]
  },
  {
   "cell_type": "code",
   "execution_count": null,
   "metadata": {
    "ExecuteTime": {
     "end_time": "2021-10-05T20:51:45.503117Z",
     "start_time": "2021-10-05T20:51:45.190988Z"
    }
   },
   "outputs": [],
   "source": [
    "clf = XGBRegressor()\n",
    "clf.fit(X_train, y_train);"
   ]
  },
  {
   "cell_type": "code",
   "execution_count": null,
   "metadata": {
    "ExecuteTime": {
     "end_time": "2021-10-05T20:53:19.494474Z",
     "start_time": "2021-10-05T20:52:59.457602Z"
    }
   },
   "outputs": [],
   "source": [
    "features = [5, 1, (5, 1)]\n",
    "fig, ax = plt.subplots(1, 1, figsize=(10, 4))\n",
    "plot_partial_dependence(clf, X_train, features, ax=ax, feature_names=features_names);"
   ]
  },
  {
   "cell_type": "markdown",
   "metadata": {
    "slideshow": {
     "slide_type": "slide"
    }
   },
   "source": [
    "#### Permutation feature importance\n",
    "\n",
    "* Viene incluido en sklearn (https://scikit-learn.org/stable/modules/permutation_importance.html)\n",
    "\n",
    "$$i_j = s - \\frac{1}{K} \\sum_{k=1}^{K} s_{k,j}$$\n",
    "\n",
    "* Vamos a usar eli5 que ya trae algunas cosas implementadas"
   ]
  },
  {
   "cell_type": "code",
   "execution_count": null,
   "metadata": {
    "ExecuteTime": {
     "end_time": "2021-10-05T20:49:18.474984Z",
     "start_time": "2021-10-05T20:49:18.419154Z"
    },
    "slideshow": {
     "slide_type": "skip"
    }
   },
   "outputs": [],
   "source": [
    "import eli5\n",
    "from eli5.sklearn import PermutationImportance"
   ]
  },
  {
   "cell_type": "code",
   "execution_count": null,
   "metadata": {
    "ExecuteTime": {
     "end_time": "2021-10-05T20:49:19.263230Z",
     "start_time": "2021-10-05T20:49:18.476173Z"
    }
   },
   "outputs": [],
   "source": [
    "perm = PermutationImportance(clf, scoring='neg_mean_squared_error', random_state=1, cv=\"prefit\")\n",
    "perm.fit(X_train, y_train)\n",
    "eli5.show_weights(perm, feature_names=features_names)"
   ]
  },
  {
   "cell_type": "code",
   "execution_count": null,
   "metadata": {
    "ExecuteTime": {
     "end_time": "2021-10-05T20:49:19.531589Z",
     "start_time": "2021-10-05T20:49:19.264584Z"
    }
   },
   "outputs": [],
   "source": [
    "eli5.show_prediction(clf, X_test[25], show_feature_values=True, feature_names=features_names)"
   ]
  },
  {
   "cell_type": "markdown",
   "metadata": {},
   "source": [
    "### Local Model Agnostic Methods"
   ]
  },
  {
   "cell_type": "markdown",
   "metadata": {
    "slideshow": {
     "slide_type": "slide"
    }
   },
   "source": [
    "####  Local Surrogate (LIME)\n",
    "\n",
    "*Local interpretable model-agnostic explanations*\n",
    "\n",
    "The recipe for training local surrogate models:\n",
    "\n",
    "* Select your instance of interest for which you want to have an explanation of its black box prediction.\n",
    "* Perturb your dataset and get the black box predictions for these new points.\n",
    "* Weight the new samples according to their proximity to the instance of interest.\n",
    "* Train a weighted, interpretable model on the dataset with the variations.\n",
    "* Explain the prediction by interpreting the local model."
   ]
  },
  {
   "cell_type": "code",
   "execution_count": null,
   "metadata": {
    "ExecuteTime": {
     "end_time": "2021-10-05T20:49:21.822104Z",
     "start_time": "2021-10-05T20:49:19.533000Z"
    }
   },
   "outputs": [],
   "source": [
    "from lime.lime_tabular import LimeTabularExplainer\n",
    "lime_explainer = LimeTabularExplainer(X_train, feature_names=features_names, \n",
    "                                      class_names=['# rental bikes'], \n",
    "                                      verbose=True, mode='regression')\n",
    "\n",
    "exp = lime_explainer.explain_instance(X_test[42], clf.predict, num_features=9)\n",
    "exp.show_in_notebook(show_table=True)"
   ]
  },
  {
   "cell_type": "markdown",
   "metadata": {},
   "source": [
    "#### SHAP (SHapley Additive exPlanations)"
   ]
  },
  {
   "cell_type": "code",
   "execution_count": null,
   "metadata": {
    "ExecuteTime": {
     "end_time": "2021-10-05T20:49:22.116260Z",
     "start_time": "2021-10-05T20:49:21.824424Z"
    },
    "slideshow": {
     "slide_type": "skip"
    }
   },
   "outputs": [],
   "source": [
    "import shap\n",
    "shap.initjs()"
   ]
  },
  {
   "cell_type": "code",
   "execution_count": null,
   "metadata": {
    "ExecuteTime": {
     "end_time": "2021-10-05T20:49:23.881947Z",
     "start_time": "2021-10-05T20:49:22.118872Z"
    }
   },
   "outputs": [],
   "source": [
    "shap_explainer = shap.TreeExplainer(clf)\n",
    "shap_values = shap_explainer.shap_values(X_test)\n",
    "\n",
    "shap.summary_plot(shap_values, feature_names=features_names, plot_type='bar')"
   ]
  },
  {
   "cell_type": "code",
   "execution_count": null,
   "metadata": {
    "ExecuteTime": {
     "end_time": "2021-10-05T20:49:24.473698Z",
     "start_time": "2021-10-05T20:49:23.883448Z"
    }
   },
   "outputs": [],
   "source": [
    "shap.summary_plot(shap_values, features=X_test, feature_names=features_names)"
   ]
  },
  {
   "cell_type": "code",
   "execution_count": null,
   "metadata": {
    "ExecuteTime": {
     "end_time": "2021-10-05T20:49:24.479388Z",
     "start_time": "2021-10-05T20:49:24.475034Z"
    }
   },
   "outputs": [],
   "source": [
    "i = 42\n",
    "shap.force_plot(shap_explainer.expected_value,\n",
    "                shap_values[i], \n",
    "                features=X_test[i], feature_names=features_names)"
   ]
  },
  {
   "cell_type": "code",
   "execution_count": null,
   "metadata": {
    "ExecuteTime": {
     "end_time": "2021-10-05T20:49:24.760348Z",
     "start_time": "2021-10-05T20:49:24.480969Z"
    }
   },
   "outputs": [],
   "source": [
    "shap.decision_plot(shap_explainer.expected_value, shap_values[i], features=X_test[i], feature_names=features_names)"
   ]
  }
 ],
 "metadata": {
  "celltoolbar": "Slideshow",
  "hide_input": false,
  "kernelspec": {
   "display_name": "Python 3 (ipykernel)",
   "language": "python",
   "name": "python3"
  },
  "language_info": {
   "codemirror_mode": {
    "name": "ipython",
    "version": 3
   },
   "file_extension": ".py",
   "mimetype": "text/x-python",
   "name": "python",
   "nbconvert_exporter": "python",
   "pygments_lexer": "ipython3",
   "version": "3.8.10"
  },
  "toc": {
   "base_numbering": 1,
   "nav_menu": {},
   "number_sections": false,
   "sideBar": true,
   "skip_h1_title": false,
   "title_cell": "Table of Contents",
   "title_sidebar": "Contents",
   "toc_cell": false,
   "toc_position": {},
   "toc_section_display": true,
   "toc_window_display": false
  }
 },
 "nbformat": 4,
 "nbformat_minor": 2
}
